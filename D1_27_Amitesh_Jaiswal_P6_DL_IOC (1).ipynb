{
  "nbformat": 4,
  "nbformat_minor": 0,
  "metadata": {
    "colab": {
      "provenance": [],
      "gpuType": "T4"
    },
    "kernelspec": {
      "name": "python3",
      "display_name": "Python 3"
    },
    "language_info": {
      "name": "python"
    },
    "accelerator": "GPU"
  },
  "cells": [
    {
      "cell_type": "markdown",
      "source": [
        "#### Practical 06\n",
        "#### Amitesh Jaiswal\n",
        "\n",
        "#### Roll no. D1 - 27\n",
        "#### Dataset - IOC"
      ],
      "metadata": {
        "id": "pk28m9ofNZaK"
      }
    },
    {
      "cell_type": "markdown",
      "source": [
        "1. Understanding the problem"
      ],
      "metadata": {
        "id": "be3IYbm-NrSu"
      }
    },
    {
      "cell_type": "markdown",
      "source": [
        "Import the necessary libraries"
      ],
      "metadata": {
        "id": "0UPEWjcBNsBB"
      }
    },
    {
      "cell_type": "code",
      "source": [
        "import pandas as pd\n",
        "import matplotlib.pyplot as plt\n",
        "import numpy as np\n",
        "import matplotlib.dates as mdates\n",
        "import datetime as dt\n",
        "\n",
        "from tensorflow.keras.layers import Dense, Dropout\n",
        "from keras.layers import GRU\n",
        "from keras.models import Sequential, load_model\n",
        "from sklearn.model_selection import train_test_split\n",
        "from sklearn.preprocessing import MinMaxScaler"
      ],
      "metadata": {
        "id": "HWJ7M5BkKOXZ"
      },
      "execution_count": 1,
      "outputs": []
    },
    {
      "cell_type": "markdown",
      "source": [
        "2. Collecting the Data\n",
        "It has been downloaded from the site\n",
        "\n",
        "https://www.kaggle.com/datasets/rohanrao/nifty50-stock-market-data"
      ],
      "metadata": {
        "id": "55JbCdLmNwKp"
      }
    },
    {
      "cell_type": "code",
      "source": [
        "# Read the IOC stock market data\n",
        "ioc_dataset = pd.read_csv(\"IOC.csv\")\n",
        "\n",
        "ioc_dataset.head()"
      ],
      "metadata": {
        "colab": {
          "base_uri": "https://localhost:8080/",
          "height": 330
        },
        "id": "_t-njxBIKSNb",
        "outputId": "bb9a54b6-bd4f-407f-f112-f006f2e32289"
      },
      "execution_count": 2,
      "outputs": [
        {
          "output_type": "execute_result",
          "data": {
            "text/plain": [
              "         Date Symbol Series  Prev Close   Open    High     Low    Last  \\\n",
              "0  2000-01-03    IOC     EQ      254.00  260.0  273.25  250.00  267.35   \n",
              "1  2000-01-04    IOC     EQ      270.85  260.0  268.00  254.10  267.00   \n",
              "2  2000-01-05    IOC     EQ      264.40  264.9  265.00  257.00  261.35   \n",
              "3  2000-01-06    IOC     EQ      261.30  258.0  263.00  256.05  263.00   \n",
              "4  2000-01-07    IOC     EQ      260.10  259.9  267.00  253.25  267.00   \n",
              "\n",
              "    Close    VWAP  Volume      Turnover  Trades  Deliverable Volume  \\\n",
              "0  270.85  258.55   23700  6.127648e+11     NaN                 NaN   \n",
              "1  264.40  259.80   24400  6.339112e+11     NaN                 NaN   \n",
              "2  261.30  260.66   18900  4.926382e+11     NaN                 NaN   \n",
              "3  260.10  259.81   18150  4.715515e+11     NaN                 NaN   \n",
              "4  264.45  260.11   17650  4.590902e+11     NaN                 NaN   \n",
              "\n",
              "   %Deliverble  \n",
              "0          NaN  \n",
              "1          NaN  \n",
              "2          NaN  \n",
              "3          NaN  \n",
              "4          NaN  "
            ],
            "text/html": [
              "\n",
              "  <div id=\"df-e9ea2a57-fe64-4565-b281-18383168e7d7\" class=\"colab-df-container\">\n",
              "    <div>\n",
              "<style scoped>\n",
              "    .dataframe tbody tr th:only-of-type {\n",
              "        vertical-align: middle;\n",
              "    }\n",
              "\n",
              "    .dataframe tbody tr th {\n",
              "        vertical-align: top;\n",
              "    }\n",
              "\n",
              "    .dataframe thead th {\n",
              "        text-align: right;\n",
              "    }\n",
              "</style>\n",
              "<table border=\"1\" class=\"dataframe\">\n",
              "  <thead>\n",
              "    <tr style=\"text-align: right;\">\n",
              "      <th></th>\n",
              "      <th>Date</th>\n",
              "      <th>Symbol</th>\n",
              "      <th>Series</th>\n",
              "      <th>Prev Close</th>\n",
              "      <th>Open</th>\n",
              "      <th>High</th>\n",
              "      <th>Low</th>\n",
              "      <th>Last</th>\n",
              "      <th>Close</th>\n",
              "      <th>VWAP</th>\n",
              "      <th>Volume</th>\n",
              "      <th>Turnover</th>\n",
              "      <th>Trades</th>\n",
              "      <th>Deliverable Volume</th>\n",
              "      <th>%Deliverble</th>\n",
              "    </tr>\n",
              "  </thead>\n",
              "  <tbody>\n",
              "    <tr>\n",
              "      <th>0</th>\n",
              "      <td>2000-01-03</td>\n",
              "      <td>IOC</td>\n",
              "      <td>EQ</td>\n",
              "      <td>254.00</td>\n",
              "      <td>260.0</td>\n",
              "      <td>273.25</td>\n",
              "      <td>250.00</td>\n",
              "      <td>267.35</td>\n",
              "      <td>270.85</td>\n",
              "      <td>258.55</td>\n",
              "      <td>23700</td>\n",
              "      <td>6.127648e+11</td>\n",
              "      <td>NaN</td>\n",
              "      <td>NaN</td>\n",
              "      <td>NaN</td>\n",
              "    </tr>\n",
              "    <tr>\n",
              "      <th>1</th>\n",
              "      <td>2000-01-04</td>\n",
              "      <td>IOC</td>\n",
              "      <td>EQ</td>\n",
              "      <td>270.85</td>\n",
              "      <td>260.0</td>\n",
              "      <td>268.00</td>\n",
              "      <td>254.10</td>\n",
              "      <td>267.00</td>\n",
              "      <td>264.40</td>\n",
              "      <td>259.80</td>\n",
              "      <td>24400</td>\n",
              "      <td>6.339112e+11</td>\n",
              "      <td>NaN</td>\n",
              "      <td>NaN</td>\n",
              "      <td>NaN</td>\n",
              "    </tr>\n",
              "    <tr>\n",
              "      <th>2</th>\n",
              "      <td>2000-01-05</td>\n",
              "      <td>IOC</td>\n",
              "      <td>EQ</td>\n",
              "      <td>264.40</td>\n",
              "      <td>264.9</td>\n",
              "      <td>265.00</td>\n",
              "      <td>257.00</td>\n",
              "      <td>261.35</td>\n",
              "      <td>261.30</td>\n",
              "      <td>260.66</td>\n",
              "      <td>18900</td>\n",
              "      <td>4.926382e+11</td>\n",
              "      <td>NaN</td>\n",
              "      <td>NaN</td>\n",
              "      <td>NaN</td>\n",
              "    </tr>\n",
              "    <tr>\n",
              "      <th>3</th>\n",
              "      <td>2000-01-06</td>\n",
              "      <td>IOC</td>\n",
              "      <td>EQ</td>\n",
              "      <td>261.30</td>\n",
              "      <td>258.0</td>\n",
              "      <td>263.00</td>\n",
              "      <td>256.05</td>\n",
              "      <td>263.00</td>\n",
              "      <td>260.10</td>\n",
              "      <td>259.81</td>\n",
              "      <td>18150</td>\n",
              "      <td>4.715515e+11</td>\n",
              "      <td>NaN</td>\n",
              "      <td>NaN</td>\n",
              "      <td>NaN</td>\n",
              "    </tr>\n",
              "    <tr>\n",
              "      <th>4</th>\n",
              "      <td>2000-01-07</td>\n",
              "      <td>IOC</td>\n",
              "      <td>EQ</td>\n",
              "      <td>260.10</td>\n",
              "      <td>259.9</td>\n",
              "      <td>267.00</td>\n",
              "      <td>253.25</td>\n",
              "      <td>267.00</td>\n",
              "      <td>264.45</td>\n",
              "      <td>260.11</td>\n",
              "      <td>17650</td>\n",
              "      <td>4.590902e+11</td>\n",
              "      <td>NaN</td>\n",
              "      <td>NaN</td>\n",
              "      <td>NaN</td>\n",
              "    </tr>\n",
              "  </tbody>\n",
              "</table>\n",
              "</div>\n",
              "    <div class=\"colab-df-buttons\">\n",
              "\n",
              "  <div class=\"colab-df-container\">\n",
              "    <button class=\"colab-df-convert\" onclick=\"convertToInteractive('df-e9ea2a57-fe64-4565-b281-18383168e7d7')\"\n",
              "            title=\"Convert this dataframe to an interactive table.\"\n",
              "            style=\"display:none;\">\n",
              "\n",
              "  <svg xmlns=\"http://www.w3.org/2000/svg\" height=\"24px\" viewBox=\"0 -960 960 960\">\n",
              "    <path d=\"M120-120v-720h720v720H120Zm60-500h600v-160H180v160Zm220 220h160v-160H400v160Zm0 220h160v-160H400v160ZM180-400h160v-160H180v160Zm440 0h160v-160H620v160ZM180-180h160v-160H180v160Zm440 0h160v-160H620v160Z\"/>\n",
              "  </svg>\n",
              "    </button>\n",
              "\n",
              "  <style>\n",
              "    .colab-df-container {\n",
              "      display:flex;\n",
              "      gap: 12px;\n",
              "    }\n",
              "\n",
              "    .colab-df-convert {\n",
              "      background-color: #E8F0FE;\n",
              "      border: none;\n",
              "      border-radius: 50%;\n",
              "      cursor: pointer;\n",
              "      display: none;\n",
              "      fill: #1967D2;\n",
              "      height: 32px;\n",
              "      padding: 0 0 0 0;\n",
              "      width: 32px;\n",
              "    }\n",
              "\n",
              "    .colab-df-convert:hover {\n",
              "      background-color: #E2EBFA;\n",
              "      box-shadow: 0px 1px 2px rgba(60, 64, 67, 0.3), 0px 1px 3px 1px rgba(60, 64, 67, 0.15);\n",
              "      fill: #174EA6;\n",
              "    }\n",
              "\n",
              "    .colab-df-buttons div {\n",
              "      margin-bottom: 4px;\n",
              "    }\n",
              "\n",
              "    [theme=dark] .colab-df-convert {\n",
              "      background-color: #3B4455;\n",
              "      fill: #D2E3FC;\n",
              "    }\n",
              "\n",
              "    [theme=dark] .colab-df-convert:hover {\n",
              "      background-color: #434B5C;\n",
              "      box-shadow: 0px 1px 3px 1px rgba(0, 0, 0, 0.15);\n",
              "      filter: drop-shadow(0px 1px 2px rgba(0, 0, 0, 0.3));\n",
              "      fill: #FFFFFF;\n",
              "    }\n",
              "  </style>\n",
              "\n",
              "    <script>\n",
              "      const buttonEl =\n",
              "        document.querySelector('#df-e9ea2a57-fe64-4565-b281-18383168e7d7 button.colab-df-convert');\n",
              "      buttonEl.style.display =\n",
              "        google.colab.kernel.accessAllowed ? 'block' : 'none';\n",
              "\n",
              "      async function convertToInteractive(key) {\n",
              "        const element = document.querySelector('#df-e9ea2a57-fe64-4565-b281-18383168e7d7');\n",
              "        const dataTable =\n",
              "          await google.colab.kernel.invokeFunction('convertToInteractive',\n",
              "                                                    [key], {});\n",
              "        if (!dataTable) return;\n",
              "\n",
              "        const docLinkHtml = 'Like what you see? Visit the ' +\n",
              "          '<a target=\"_blank\" href=https://colab.research.google.com/notebooks/data_table.ipynb>data table notebook</a>'\n",
              "          + ' to learn more about interactive tables.';\n",
              "        element.innerHTML = '';\n",
              "        dataTable['output_type'] = 'display_data';\n",
              "        await google.colab.output.renderOutput(dataTable, element);\n",
              "        const docLink = document.createElement('div');\n",
              "        docLink.innerHTML = docLinkHtml;\n",
              "        element.appendChild(docLink);\n",
              "      }\n",
              "    </script>\n",
              "  </div>\n",
              "\n",
              "\n",
              "<div id=\"df-f78ea477-3f88-4639-bcc2-59fa7b57a8ed\">\n",
              "  <button class=\"colab-df-quickchart\" onclick=\"quickchart('df-f78ea477-3f88-4639-bcc2-59fa7b57a8ed')\"\n",
              "            title=\"Suggest charts\"\n",
              "            style=\"display:none;\">\n",
              "\n",
              "<svg xmlns=\"http://www.w3.org/2000/svg\" height=\"24px\"viewBox=\"0 0 24 24\"\n",
              "     width=\"24px\">\n",
              "    <g>\n",
              "        <path d=\"M19 3H5c-1.1 0-2 .9-2 2v14c0 1.1.9 2 2 2h14c1.1 0 2-.9 2-2V5c0-1.1-.9-2-2-2zM9 17H7v-7h2v7zm4 0h-2V7h2v10zm4 0h-2v-4h2v4z\"/>\n",
              "    </g>\n",
              "</svg>\n",
              "  </button>\n",
              "\n",
              "<style>\n",
              "  .colab-df-quickchart {\n",
              "      --bg-color: #E8F0FE;\n",
              "      --fill-color: #1967D2;\n",
              "      --hover-bg-color: #E2EBFA;\n",
              "      --hover-fill-color: #174EA6;\n",
              "      --disabled-fill-color: #AAA;\n",
              "      --disabled-bg-color: #DDD;\n",
              "  }\n",
              "\n",
              "  [theme=dark] .colab-df-quickchart {\n",
              "      --bg-color: #3B4455;\n",
              "      --fill-color: #D2E3FC;\n",
              "      --hover-bg-color: #434B5C;\n",
              "      --hover-fill-color: #FFFFFF;\n",
              "      --disabled-bg-color: #3B4455;\n",
              "      --disabled-fill-color: #666;\n",
              "  }\n",
              "\n",
              "  .colab-df-quickchart {\n",
              "    background-color: var(--bg-color);\n",
              "    border: none;\n",
              "    border-radius: 50%;\n",
              "    cursor: pointer;\n",
              "    display: none;\n",
              "    fill: var(--fill-color);\n",
              "    height: 32px;\n",
              "    padding: 0;\n",
              "    width: 32px;\n",
              "  }\n",
              "\n",
              "  .colab-df-quickchart:hover {\n",
              "    background-color: var(--hover-bg-color);\n",
              "    box-shadow: 0 1px 2px rgba(60, 64, 67, 0.3), 0 1px 3px 1px rgba(60, 64, 67, 0.15);\n",
              "    fill: var(--button-hover-fill-color);\n",
              "  }\n",
              "\n",
              "  .colab-df-quickchart-complete:disabled,\n",
              "  .colab-df-quickchart-complete:disabled:hover {\n",
              "    background-color: var(--disabled-bg-color);\n",
              "    fill: var(--disabled-fill-color);\n",
              "    box-shadow: none;\n",
              "  }\n",
              "\n",
              "  .colab-df-spinner {\n",
              "    border: 2px solid var(--fill-color);\n",
              "    border-color: transparent;\n",
              "    border-bottom-color: var(--fill-color);\n",
              "    animation:\n",
              "      spin 1s steps(1) infinite;\n",
              "  }\n",
              "\n",
              "  @keyframes spin {\n",
              "    0% {\n",
              "      border-color: transparent;\n",
              "      border-bottom-color: var(--fill-color);\n",
              "      border-left-color: var(--fill-color);\n",
              "    }\n",
              "    20% {\n",
              "      border-color: transparent;\n",
              "      border-left-color: var(--fill-color);\n",
              "      border-top-color: var(--fill-color);\n",
              "    }\n",
              "    30% {\n",
              "      border-color: transparent;\n",
              "      border-left-color: var(--fill-color);\n",
              "      border-top-color: var(--fill-color);\n",
              "      border-right-color: var(--fill-color);\n",
              "    }\n",
              "    40% {\n",
              "      border-color: transparent;\n",
              "      border-right-color: var(--fill-color);\n",
              "      border-top-color: var(--fill-color);\n",
              "    }\n",
              "    60% {\n",
              "      border-color: transparent;\n",
              "      border-right-color: var(--fill-color);\n",
              "    }\n",
              "    80% {\n",
              "      border-color: transparent;\n",
              "      border-right-color: var(--fill-color);\n",
              "      border-bottom-color: var(--fill-color);\n",
              "    }\n",
              "    90% {\n",
              "      border-color: transparent;\n",
              "      border-bottom-color: var(--fill-color);\n",
              "    }\n",
              "  }\n",
              "</style>\n",
              "\n",
              "  <script>\n",
              "    async function quickchart(key) {\n",
              "      const quickchartButtonEl =\n",
              "        document.querySelector('#' + key + ' button');\n",
              "      quickchartButtonEl.disabled = true;  // To prevent multiple clicks.\n",
              "      quickchartButtonEl.classList.add('colab-df-spinner');\n",
              "      try {\n",
              "        const charts = await google.colab.kernel.invokeFunction(\n",
              "            'suggestCharts', [key], {});\n",
              "      } catch (error) {\n",
              "        console.error('Error during call to suggestCharts:', error);\n",
              "      }\n",
              "      quickchartButtonEl.classList.remove('colab-df-spinner');\n",
              "      quickchartButtonEl.classList.add('colab-df-quickchart-complete');\n",
              "    }\n",
              "    (() => {\n",
              "      let quickchartButtonEl =\n",
              "        document.querySelector('#df-f78ea477-3f88-4639-bcc2-59fa7b57a8ed button');\n",
              "      quickchartButtonEl.style.display =\n",
              "        google.colab.kernel.accessAllowed ? 'block' : 'none';\n",
              "    })();\n",
              "  </script>\n",
              "</div>\n",
              "    </div>\n",
              "  </div>\n"
            ],
            "application/vnd.google.colaboratory.intrinsic+json": {
              "type": "dataframe",
              "variable_name": "ioc_dataset",
              "summary": "{\n  \"name\": \"ioc_dataset\",\n  \"rows\": 5306,\n  \"fields\": [\n    {\n      \"column\": \"Date\",\n      \"properties\": {\n        \"dtype\": \"object\",\n        \"num_unique_values\": 5306,\n        \"samples\": [\n          \"2003-04-01\",\n          \"2016-03-16\",\n          \"2021-01-20\"\n        ],\n        \"semantic_type\": \"\",\n        \"description\": \"\"\n      }\n    },\n    {\n      \"column\": \"Symbol\",\n      \"properties\": {\n        \"dtype\": \"category\",\n        \"num_unique_values\": 1,\n        \"samples\": [\n          \"IOC\"\n        ],\n        \"semantic_type\": \"\",\n        \"description\": \"\"\n      }\n    },\n    {\n      \"column\": \"Series\",\n      \"properties\": {\n        \"dtype\": \"category\",\n        \"num_unique_values\": 1,\n        \"samples\": [\n          \"EQ\"\n        ],\n        \"semantic_type\": \"\",\n        \"description\": \"\"\n      }\n    },\n    {\n      \"column\": \"Prev Close\",\n      \"properties\": {\n        \"dtype\": \"number\",\n        \"std\": 138.31439200033998,\n        \"min\": 71.55,\n        \"max\": 794.95,\n        \"num_unique_values\": 3926,\n        \"samples\": [\n          168.6\n        ],\n        \"semantic_type\": \"\",\n        \"description\": \"\"\n      }\n    },\n    {\n      \"column\": \"Open\",\n      \"properties\": {\n        \"dtype\": \"number\",\n        \"std\": 138.65689348788285,\n        \"min\": 72.35,\n        \"max\": 800.0,\n        \"num_unique_values\": 2847,\n        \"samples\": [\n          310.55\n        ],\n        \"semantic_type\": \"\",\n        \"description\": \"\"\n      }\n    },\n    {\n      \"column\": \"High\",\n      \"properties\": {\n        \"dtype\": \"number\",\n        \"std\": 141.45178660526076,\n        \"min\": 73.4,\n        \"max\": 810.0,\n        \"num_unique_values\": 3161,\n        \"samples\": [\n          140.2\n        ],\n        \"semantic_type\": \"\",\n        \"description\": \"\"\n      }\n    },\n    {\n      \"column\": \"Low\",\n      \"properties\": {\n        \"dtype\": \"number\",\n        \"std\": 135.7868998790694,\n        \"min\": 71.15,\n        \"max\": 775.55,\n        \"num_unique_values\": 3251,\n        \"samples\": [\n          355.45\n        ],\n        \"semantic_type\": \"\",\n        \"description\": \"\"\n      }\n    },\n    {\n      \"column\": \"Last\",\n      \"properties\": {\n        \"dtype\": \"number\",\n        \"std\": 138.32219249397724,\n        \"min\": 71.5,\n        \"max\": 793.0,\n        \"num_unique_values\": 3305,\n        \"samples\": [\n          196.0\n        ],\n        \"semantic_type\": \"\",\n        \"description\": \"\"\n      }\n    },\n    {\n      \"column\": \"Close\",\n      \"properties\": {\n        \"dtype\": \"number\",\n        \"std\": 138.34688953579925,\n        \"min\": 71.55,\n        \"max\": 794.95,\n        \"num_unique_values\": 3927,\n        \"samples\": [\n          468.2\n        ],\n        \"semantic_type\": \"\",\n        \"description\": \"\"\n      }\n    },\n    {\n      \"column\": \"VWAP\",\n      \"properties\": {\n        \"dtype\": \"number\",\n        \"std\": 138.68981067735334,\n        \"min\": 72.56,\n        \"max\": 789.83,\n        \"num_unique_values\": 4975,\n        \"samples\": [\n          75.38\n        ],\n        \"semantic_type\": \"\",\n        \"description\": \"\"\n      }\n    },\n    {\n      \"column\": \"Volume\",\n      \"properties\": {\n        \"dtype\": \"number\",\n        \"std\": 7692790,\n        \"min\": 350,\n        \"max\": 209929135,\n        \"num_unique_values\": 5292,\n        \"samples\": [\n          6109\n        ],\n        \"semantic_type\": \"\",\n        \"description\": \"\"\n      }\n    },\n    {\n      \"column\": \"Turnover\",\n      \"properties\": {\n        \"dtype\": \"number\",\n        \"std\": 107084186724187.19,\n        \"min\": 5222700000.0,\n        \"max\": 2868429636125000.0,\n        \"num_unique_values\": 5306,\n        \"samples\": [\n          276002815000.0\n        ],\n        \"semantic_type\": \"\",\n        \"description\": \"\"\n      }\n    },\n    {\n      \"column\": \"Trades\",\n      \"properties\": {\n        \"dtype\": \"number\",\n        \"std\": 36408.35556663286,\n        \"min\": 308.0,\n        \"max\": 379888.0,\n        \"num_unique_values\": 2411,\n        \"samples\": [\n          51803.0\n        ],\n        \"semantic_type\": \"\",\n        \"description\": \"\"\n      }\n    },\n    {\n      \"column\": \"Deliverable Volume\",\n      \"properties\": {\n        \"dtype\": \"number\",\n        \"std\": 3658331.4945225925,\n        \"min\": 2176.0,\n        \"max\": 139345365.0,\n        \"num_unique_values\": 4787,\n        \"samples\": [\n          192385.0\n        ],\n        \"semantic_type\": \"\",\n        \"description\": \"\"\n      }\n    },\n    {\n      \"column\": \"%Deliverble\",\n      \"properties\": {\n        \"dtype\": \"number\",\n        \"std\": 0.1599083985166162,\n        \"min\": 0.0667,\n        \"max\": 0.9889,\n        \"num_unique_values\": 3295,\n        \"samples\": [\n          0.1601\n        ],\n        \"semantic_type\": \"\",\n        \"description\": \"\"\n      }\n    }\n  ]\n}"
            }
          },
          "metadata": {},
          "execution_count": 2
        }
      ]
    },
    {
      "cell_type": "code",
      "source": [
        "# Selecting date and closing price columns\n",
        "date_column = 'Date'\n",
        "closing_price_column = 'Close'\n",
        "\n",
        "# Selecting only the columns of interest\n",
        "main_dataset = ioc_dataset[[date_column, closing_price_column]]\n",
        "\n",
        "# Displaying the selected data\n",
        "print(main_dataset)"
      ],
      "metadata": {
        "colab": {
          "base_uri": "https://localhost:8080/"
        },
        "id": "rk0-3SvZKWBn",
        "outputId": "11ce7286-fbd8-40a0-846d-93e516bd4775"
      },
      "execution_count": 3,
      "outputs": [
        {
          "output_type": "stream",
          "name": "stdout",
          "text": [
            "            Date   Close\n",
            "0     2000-01-03  270.85\n",
            "1     2000-01-04  264.40\n",
            "2     2000-01-05  261.30\n",
            "3     2000-01-06  260.10\n",
            "4     2000-01-07  264.45\n",
            "...          ...     ...\n",
            "5301  2021-04-26   88.20\n",
            "5302  2021-04-27   88.85\n",
            "5303  2021-04-28   89.40\n",
            "5304  2021-04-29   88.90\n",
            "5305  2021-04-30   90.85\n",
            "\n",
            "[5306 rows x 2 columns]\n"
          ]
        }
      ]
    },
    {
      "cell_type": "code",
      "source": [
        "main_dataset['Close'] = main_dataset['Close'].astype(float)\n"
      ],
      "metadata": {
        "colab": {
          "base_uri": "https://localhost:8080/"
        },
        "id": "nwbVaaVEKZEe",
        "outputId": "2e522ce8-a223-4bb5-d6da-86417616833b"
      },
      "execution_count": 4,
      "outputs": [
        {
          "output_type": "stream",
          "name": "stderr",
          "text": [
            "<ipython-input-4-b3f67d92a746>:1: SettingWithCopyWarning: \n",
            "A value is trying to be set on a copy of a slice from a DataFrame.\n",
            "Try using .loc[row_indexer,col_indexer] = value instead\n",
            "\n",
            "See the caveats in the documentation: https://pandas.pydata.org/pandas-docs/stable/user_guide/indexing.html#returning-a-view-versus-a-copy\n",
            "  main_dataset['Close'] = main_dataset['Close'].astype(float)\n"
          ]
        }
      ]
    },
    {
      "cell_type": "code",
      "source": [
        "main_dataset\n"
      ],
      "metadata": {
        "colab": {
          "base_uri": "https://localhost:8080/",
          "height": 423
        },
        "id": "yHVZGsS9KaZp",
        "outputId": "f99ae4ec-5941-4e8d-e389-34b42b34d836"
      },
      "execution_count": 5,
      "outputs": [
        {
          "output_type": "execute_result",
          "data": {
            "text/plain": [
              "            Date   Close\n",
              "0     2000-01-03  270.85\n",
              "1     2000-01-04  264.40\n",
              "2     2000-01-05  261.30\n",
              "3     2000-01-06  260.10\n",
              "4     2000-01-07  264.45\n",
              "...          ...     ...\n",
              "5301  2021-04-26   88.20\n",
              "5302  2021-04-27   88.85\n",
              "5303  2021-04-28   89.40\n",
              "5304  2021-04-29   88.90\n",
              "5305  2021-04-30   90.85\n",
              "\n",
              "[5306 rows x 2 columns]"
            ],
            "text/html": [
              "\n",
              "  <div id=\"df-5213dc94-7941-4bb6-ac2f-4d0cf32c255c\" class=\"colab-df-container\">\n",
              "    <div>\n",
              "<style scoped>\n",
              "    .dataframe tbody tr th:only-of-type {\n",
              "        vertical-align: middle;\n",
              "    }\n",
              "\n",
              "    .dataframe tbody tr th {\n",
              "        vertical-align: top;\n",
              "    }\n",
              "\n",
              "    .dataframe thead th {\n",
              "        text-align: right;\n",
              "    }\n",
              "</style>\n",
              "<table border=\"1\" class=\"dataframe\">\n",
              "  <thead>\n",
              "    <tr style=\"text-align: right;\">\n",
              "      <th></th>\n",
              "      <th>Date</th>\n",
              "      <th>Close</th>\n",
              "    </tr>\n",
              "  </thead>\n",
              "  <tbody>\n",
              "    <tr>\n",
              "      <th>0</th>\n",
              "      <td>2000-01-03</td>\n",
              "      <td>270.85</td>\n",
              "    </tr>\n",
              "    <tr>\n",
              "      <th>1</th>\n",
              "      <td>2000-01-04</td>\n",
              "      <td>264.40</td>\n",
              "    </tr>\n",
              "    <tr>\n",
              "      <th>2</th>\n",
              "      <td>2000-01-05</td>\n",
              "      <td>261.30</td>\n",
              "    </tr>\n",
              "    <tr>\n",
              "      <th>3</th>\n",
              "      <td>2000-01-06</td>\n",
              "      <td>260.10</td>\n",
              "    </tr>\n",
              "    <tr>\n",
              "      <th>4</th>\n",
              "      <td>2000-01-07</td>\n",
              "      <td>264.45</td>\n",
              "    </tr>\n",
              "    <tr>\n",
              "      <th>...</th>\n",
              "      <td>...</td>\n",
              "      <td>...</td>\n",
              "    </tr>\n",
              "    <tr>\n",
              "      <th>5301</th>\n",
              "      <td>2021-04-26</td>\n",
              "      <td>88.20</td>\n",
              "    </tr>\n",
              "    <tr>\n",
              "      <th>5302</th>\n",
              "      <td>2021-04-27</td>\n",
              "      <td>88.85</td>\n",
              "    </tr>\n",
              "    <tr>\n",
              "      <th>5303</th>\n",
              "      <td>2021-04-28</td>\n",
              "      <td>89.40</td>\n",
              "    </tr>\n",
              "    <tr>\n",
              "      <th>5304</th>\n",
              "      <td>2021-04-29</td>\n",
              "      <td>88.90</td>\n",
              "    </tr>\n",
              "    <tr>\n",
              "      <th>5305</th>\n",
              "      <td>2021-04-30</td>\n",
              "      <td>90.85</td>\n",
              "    </tr>\n",
              "  </tbody>\n",
              "</table>\n",
              "<p>5306 rows × 2 columns</p>\n",
              "</div>\n",
              "    <div class=\"colab-df-buttons\">\n",
              "\n",
              "  <div class=\"colab-df-container\">\n",
              "    <button class=\"colab-df-convert\" onclick=\"convertToInteractive('df-5213dc94-7941-4bb6-ac2f-4d0cf32c255c')\"\n",
              "            title=\"Convert this dataframe to an interactive table.\"\n",
              "            style=\"display:none;\">\n",
              "\n",
              "  <svg xmlns=\"http://www.w3.org/2000/svg\" height=\"24px\" viewBox=\"0 -960 960 960\">\n",
              "    <path d=\"M120-120v-720h720v720H120Zm60-500h600v-160H180v160Zm220 220h160v-160H400v160Zm0 220h160v-160H400v160ZM180-400h160v-160H180v160Zm440 0h160v-160H620v160ZM180-180h160v-160H180v160Zm440 0h160v-160H620v160Z\"/>\n",
              "  </svg>\n",
              "    </button>\n",
              "\n",
              "  <style>\n",
              "    .colab-df-container {\n",
              "      display:flex;\n",
              "      gap: 12px;\n",
              "    }\n",
              "\n",
              "    .colab-df-convert {\n",
              "      background-color: #E8F0FE;\n",
              "      border: none;\n",
              "      border-radius: 50%;\n",
              "      cursor: pointer;\n",
              "      display: none;\n",
              "      fill: #1967D2;\n",
              "      height: 32px;\n",
              "      padding: 0 0 0 0;\n",
              "      width: 32px;\n",
              "    }\n",
              "\n",
              "    .colab-df-convert:hover {\n",
              "      background-color: #E2EBFA;\n",
              "      box-shadow: 0px 1px 2px rgba(60, 64, 67, 0.3), 0px 1px 3px 1px rgba(60, 64, 67, 0.15);\n",
              "      fill: #174EA6;\n",
              "    }\n",
              "\n",
              "    .colab-df-buttons div {\n",
              "      margin-bottom: 4px;\n",
              "    }\n",
              "\n",
              "    [theme=dark] .colab-df-convert {\n",
              "      background-color: #3B4455;\n",
              "      fill: #D2E3FC;\n",
              "    }\n",
              "\n",
              "    [theme=dark] .colab-df-convert:hover {\n",
              "      background-color: #434B5C;\n",
              "      box-shadow: 0px 1px 3px 1px rgba(0, 0, 0, 0.15);\n",
              "      filter: drop-shadow(0px 1px 2px rgba(0, 0, 0, 0.3));\n",
              "      fill: #FFFFFF;\n",
              "    }\n",
              "  </style>\n",
              "\n",
              "    <script>\n",
              "      const buttonEl =\n",
              "        document.querySelector('#df-5213dc94-7941-4bb6-ac2f-4d0cf32c255c button.colab-df-convert');\n",
              "      buttonEl.style.display =\n",
              "        google.colab.kernel.accessAllowed ? 'block' : 'none';\n",
              "\n",
              "      async function convertToInteractive(key) {\n",
              "        const element = document.querySelector('#df-5213dc94-7941-4bb6-ac2f-4d0cf32c255c');\n",
              "        const dataTable =\n",
              "          await google.colab.kernel.invokeFunction('convertToInteractive',\n",
              "                                                    [key], {});\n",
              "        if (!dataTable) return;\n",
              "\n",
              "        const docLinkHtml = 'Like what you see? Visit the ' +\n",
              "          '<a target=\"_blank\" href=https://colab.research.google.com/notebooks/data_table.ipynb>data table notebook</a>'\n",
              "          + ' to learn more about interactive tables.';\n",
              "        element.innerHTML = '';\n",
              "        dataTable['output_type'] = 'display_data';\n",
              "        await google.colab.output.renderOutput(dataTable, element);\n",
              "        const docLink = document.createElement('div');\n",
              "        docLink.innerHTML = docLinkHtml;\n",
              "        element.appendChild(docLink);\n",
              "      }\n",
              "    </script>\n",
              "  </div>\n",
              "\n",
              "\n",
              "<div id=\"df-e14faf00-345a-4b30-b6f8-f17e24e57443\">\n",
              "  <button class=\"colab-df-quickchart\" onclick=\"quickchart('df-e14faf00-345a-4b30-b6f8-f17e24e57443')\"\n",
              "            title=\"Suggest charts\"\n",
              "            style=\"display:none;\">\n",
              "\n",
              "<svg xmlns=\"http://www.w3.org/2000/svg\" height=\"24px\"viewBox=\"0 0 24 24\"\n",
              "     width=\"24px\">\n",
              "    <g>\n",
              "        <path d=\"M19 3H5c-1.1 0-2 .9-2 2v14c0 1.1.9 2 2 2h14c1.1 0 2-.9 2-2V5c0-1.1-.9-2-2-2zM9 17H7v-7h2v7zm4 0h-2V7h2v10zm4 0h-2v-4h2v4z\"/>\n",
              "    </g>\n",
              "</svg>\n",
              "  </button>\n",
              "\n",
              "<style>\n",
              "  .colab-df-quickchart {\n",
              "      --bg-color: #E8F0FE;\n",
              "      --fill-color: #1967D2;\n",
              "      --hover-bg-color: #E2EBFA;\n",
              "      --hover-fill-color: #174EA6;\n",
              "      --disabled-fill-color: #AAA;\n",
              "      --disabled-bg-color: #DDD;\n",
              "  }\n",
              "\n",
              "  [theme=dark] .colab-df-quickchart {\n",
              "      --bg-color: #3B4455;\n",
              "      --fill-color: #D2E3FC;\n",
              "      --hover-bg-color: #434B5C;\n",
              "      --hover-fill-color: #FFFFFF;\n",
              "      --disabled-bg-color: #3B4455;\n",
              "      --disabled-fill-color: #666;\n",
              "  }\n",
              "\n",
              "  .colab-df-quickchart {\n",
              "    background-color: var(--bg-color);\n",
              "    border: none;\n",
              "    border-radius: 50%;\n",
              "    cursor: pointer;\n",
              "    display: none;\n",
              "    fill: var(--fill-color);\n",
              "    height: 32px;\n",
              "    padding: 0;\n",
              "    width: 32px;\n",
              "  }\n",
              "\n",
              "  .colab-df-quickchart:hover {\n",
              "    background-color: var(--hover-bg-color);\n",
              "    box-shadow: 0 1px 2px rgba(60, 64, 67, 0.3), 0 1px 3px 1px rgba(60, 64, 67, 0.15);\n",
              "    fill: var(--button-hover-fill-color);\n",
              "  }\n",
              "\n",
              "  .colab-df-quickchart-complete:disabled,\n",
              "  .colab-df-quickchart-complete:disabled:hover {\n",
              "    background-color: var(--disabled-bg-color);\n",
              "    fill: var(--disabled-fill-color);\n",
              "    box-shadow: none;\n",
              "  }\n",
              "\n",
              "  .colab-df-spinner {\n",
              "    border: 2px solid var(--fill-color);\n",
              "    border-color: transparent;\n",
              "    border-bottom-color: var(--fill-color);\n",
              "    animation:\n",
              "      spin 1s steps(1) infinite;\n",
              "  }\n",
              "\n",
              "  @keyframes spin {\n",
              "    0% {\n",
              "      border-color: transparent;\n",
              "      border-bottom-color: var(--fill-color);\n",
              "      border-left-color: var(--fill-color);\n",
              "    }\n",
              "    20% {\n",
              "      border-color: transparent;\n",
              "      border-left-color: var(--fill-color);\n",
              "      border-top-color: var(--fill-color);\n",
              "    }\n",
              "    30% {\n",
              "      border-color: transparent;\n",
              "      border-left-color: var(--fill-color);\n",
              "      border-top-color: var(--fill-color);\n",
              "      border-right-color: var(--fill-color);\n",
              "    }\n",
              "    40% {\n",
              "      border-color: transparent;\n",
              "      border-right-color: var(--fill-color);\n",
              "      border-top-color: var(--fill-color);\n",
              "    }\n",
              "    60% {\n",
              "      border-color: transparent;\n",
              "      border-right-color: var(--fill-color);\n",
              "    }\n",
              "    80% {\n",
              "      border-color: transparent;\n",
              "      border-right-color: var(--fill-color);\n",
              "      border-bottom-color: var(--fill-color);\n",
              "    }\n",
              "    90% {\n",
              "      border-color: transparent;\n",
              "      border-bottom-color: var(--fill-color);\n",
              "    }\n",
              "  }\n",
              "</style>\n",
              "\n",
              "  <script>\n",
              "    async function quickchart(key) {\n",
              "      const quickchartButtonEl =\n",
              "        document.querySelector('#' + key + ' button');\n",
              "      quickchartButtonEl.disabled = true;  // To prevent multiple clicks.\n",
              "      quickchartButtonEl.classList.add('colab-df-spinner');\n",
              "      try {\n",
              "        const charts = await google.colab.kernel.invokeFunction(\n",
              "            'suggestCharts', [key], {});\n",
              "      } catch (error) {\n",
              "        console.error('Error during call to suggestCharts:', error);\n",
              "      }\n",
              "      quickchartButtonEl.classList.remove('colab-df-spinner');\n",
              "      quickchartButtonEl.classList.add('colab-df-quickchart-complete');\n",
              "    }\n",
              "    (() => {\n",
              "      let quickchartButtonEl =\n",
              "        document.querySelector('#df-e14faf00-345a-4b30-b6f8-f17e24e57443 button');\n",
              "      quickchartButtonEl.style.display =\n",
              "        google.colab.kernel.accessAllowed ? 'block' : 'none';\n",
              "    })();\n",
              "  </script>\n",
              "</div>\n",
              "    </div>\n",
              "  </div>\n"
            ],
            "application/vnd.google.colaboratory.intrinsic+json": {
              "type": "dataframe",
              "variable_name": "main_dataset",
              "summary": "{\n  \"name\": \"main_dataset\",\n  \"rows\": 5306,\n  \"fields\": [\n    {\n      \"column\": \"Date\",\n      \"properties\": {\n        \"dtype\": \"object\",\n        \"num_unique_values\": 5306,\n        \"samples\": [\n          \"2003-04-01\",\n          \"2016-03-16\",\n          \"2021-01-20\"\n        ],\n        \"semantic_type\": \"\",\n        \"description\": \"\"\n      }\n    },\n    {\n      \"column\": \"Close\",\n      \"properties\": {\n        \"dtype\": \"number\",\n        \"std\": 138.34688953579925,\n        \"min\": 71.55,\n        \"max\": 794.95,\n        \"num_unique_values\": 3927,\n        \"samples\": [\n          468.2,\n          391.0,\n          314.2\n        ],\n        \"semantic_type\": \"\",\n        \"description\": \"\"\n      }\n    }\n  ]\n}"
            }
          },
          "metadata": {},
          "execution_count": 5
        }
      ]
    },
    {
      "cell_type": "markdown",
      "source": [
        "###Trend"
      ],
      "metadata": {
        "id": "Jy_yGmd7KcEc"
      }
    },
    {
      "cell_type": "code",
      "source": [
        "main_dataset = main_dataset.rename(columns={'Close': 'Price'})\n"
      ],
      "metadata": {
        "id": "kTHD445yKehC"
      },
      "execution_count": 6,
      "outputs": []
    },
    {
      "cell_type": "code",
      "source": [
        "plt.plot(main_dataset.Date, main_dataset.Price)\n",
        "plt.show()"
      ],
      "metadata": {
        "colab": {
          "base_uri": "https://localhost:8080/",
          "height": 430
        },
        "id": "-OrZOstFKgJJ",
        "outputId": "b01e2236-7d99-45c8-d887-131aa495c740"
      },
      "execution_count": 7,
      "outputs": [
        {
          "output_type": "display_data",
          "data": {
            "text/plain": [
              "<Figure size 640x480 with 1 Axes>"
            ],
            "image/png": "[encoded data removed]"
          },
          "metadata": {}
        }
      ]
    },
    {
      "cell_type": "markdown",
      "source": [
        "3) Data Preprocessing\n",
        "We use following steps to preprocess the available dataset.\n",
        "\n",
        "Create new features from the available variables\n",
        "Create target and predictor datasets\n",
        "Scale the values in the datasets\n",
        "Get the datasets into desired format and shape.\n",
        "Split the dataset into train & test with appropriate ratio."
      ],
      "metadata": {
        "id": "ZKG6b0i1KjoA"
      }
    },
    {
      "cell_type": "code",
      "source": [
        "dataset = main_dataset\n",
        "dataset = dataset.set_index('Date')\n",
        "dataset = dataset['Price']"
      ],
      "metadata": {
        "id": "QY0m9z7kKqxW"
      },
      "execution_count": 8,
      "outputs": []
    },
    {
      "cell_type": "code",
      "source": [
        "dataset=dataset.to_frame()\n",
        "dataset['Price_MA2'] = dataset.expanding(min_periods=3).mean()"
      ],
      "metadata": {
        "id": "qa3xiywXKs_N"
      },
      "execution_count": 9,
      "outputs": []
    },
    {
      "cell_type": "code",
      "source": [
        "dataset['EMA'] = dataset.iloc[:,0].ewm(span=3, adjust=False).mean()"
      ],
      "metadata": {
        "id": "r2YTAIGBKxJm"
      },
      "execution_count": 10,
      "outputs": []
    },
    {
      "cell_type": "code",
      "source": [
        "dataset = dataset[dataset['Price_MA2'].notna()]\n"
      ],
      "metadata": {
        "id": "KtPqOIeAKzGG"
      },
      "execution_count": 11,
      "outputs": []
    },
    {
      "cell_type": "code",
      "source": [
        "dataset.head()\n"
      ],
      "metadata": {
        "colab": {
          "base_uri": "https://localhost:8080/",
          "height": 237
        },
        "id": "dxnSNQa7K0rM",
        "outputId": "477131fe-3f77-4e07-8e8a-5d7d216d4190"
      },
      "execution_count": 12,
      "outputs": [
        {
          "output_type": "execute_result",
          "data": {
            "text/plain": [
              "             Price   Price_MA2         EMA\n",
              "Date                                      \n",
              "2000-01-05  261.30  265.516667  264.462500\n",
              "2000-01-06  260.10  264.162500  262.281250\n",
              "2000-01-07  264.45  264.220000  263.365625\n",
              "2000-01-10  251.35  262.075000  257.357813\n",
              "2000-01-11  239.75  258.885714  248.553906"
            ],
            "text/html": [
              "\n",
              "  <div id=\"df-6ab9edb4-002f-48e5-ba62-a9cf35a90c38\" class=\"colab-df-container\">\n",
              "    <div>\n",
              "<style scoped>\n",
              "    .dataframe tbody tr th:only-of-type {\n",
              "        vertical-align: middle;\n",
              "    }\n",
              "\n",
              "    .dataframe tbody tr th {\n",
              "        vertical-align: top;\n",
              "    }\n",
              "\n",
              "    .dataframe thead th {\n",
              "        text-align: right;\n",
              "    }\n",
              "</style>\n",
              "<table border=\"1\" class=\"dataframe\">\n",
              "  <thead>\n",
              "    <tr style=\"text-align: right;\">\n",
              "      <th></th>\n",
              "      <th>Price</th>\n",
              "      <th>Price_MA2</th>\n",
              "      <th>EMA</th>\n",
              "    </tr>\n",
              "    <tr>\n",
              "      <th>Date</th>\n",
              "      <th></th>\n",
              "      <th></th>\n",
              "      <th></th>\n",
              "    </tr>\n",
              "  </thead>\n",
              "  <tbody>\n",
              "    <tr>\n",
              "      <th>2000-01-05</th>\n",
              "      <td>261.30</td>\n",
              "      <td>265.516667</td>\n",
              "      <td>264.462500</td>\n",
              "    </tr>\n",
              "    <tr>\n",
              "      <th>2000-01-06</th>\n",
              "      <td>260.10</td>\n",
              "      <td>264.162500</td>\n",
              "      <td>262.281250</td>\n",
              "    </tr>\n",
              "    <tr>\n",
              "      <th>2000-01-07</th>\n",
              "      <td>264.45</td>\n",
              "      <td>264.220000</td>\n",
              "      <td>263.365625</td>\n",
              "    </tr>\n",
              "    <tr>\n",
              "      <th>2000-01-10</th>\n",
              "      <td>251.35</td>\n",
              "      <td>262.075000</td>\n",
              "      <td>257.357813</td>\n",
              "    </tr>\n",
              "    <tr>\n",
              "      <th>2000-01-11</th>\n",
              "      <td>239.75</td>\n",
              "      <td>258.885714</td>\n",
              "      <td>248.553906</td>\n",
              "    </tr>\n",
              "  </tbody>\n",
              "</table>\n",
              "</div>\n",
              "    <div class=\"colab-df-buttons\">\n",
              "\n",
              "  <div class=\"colab-df-container\">\n",
              "    <button class=\"colab-df-convert\" onclick=\"convertToInteractive('df-6ab9edb4-002f-48e5-ba62-a9cf35a90c38')\"\n",
              "            title=\"Convert this dataframe to an interactive table.\"\n",
              "            style=\"display:none;\">\n",
              "\n",
              "  <svg xmlns=\"http://www.w3.org/2000/svg\" height=\"24px\" viewBox=\"0 -960 960 960\">\n",
              "    <path d=\"M120-120v-720h720v720H120Zm60-500h600v-160H180v160Zm220 220h160v-160H400v160Zm0 220h160v-160H400v160ZM180-400h160v-160H180v160Zm440 0h160v-160H620v160ZM180-180h160v-160H180v160Zm440 0h160v-160H620v160Z\"/>\n",
              "  </svg>\n",
              "    </button>\n",
              "\n",
              "  <style>\n",
              "    .colab-df-container {\n",
              "      display:flex;\n",
              "      gap: 12px;\n",
              "    }\n",
              "\n",
              "    .colab-df-convert {\n",
              "      background-color: #E8F0FE;\n",
              "      border: none;\n",
              "      border-radius: 50%;\n",
              "      cursor: pointer;\n",
              "      display: none;\n",
              "      fill: #1967D2;\n",
              "      height: 32px;\n",
              "      padding: 0 0 0 0;\n",
              "      width: 32px;\n",
              "    }\n",
              "\n",
              "    .colab-df-convert:hover {\n",
              "      background-color: #E2EBFA;\n",
              "      box-shadow: 0px 1px 2px rgba(60, 64, 67, 0.3), 0px 1px 3px 1px rgba(60, 64, 67, 0.15);\n",
              "      fill: #174EA6;\n",
              "    }\n",
              "\n",
              "    .colab-df-buttons div {\n",
              "      margin-bottom: 4px;\n",
              "    }\n",
              "\n",
              "    [theme=dark] .colab-df-convert {\n",
              "      background-color: #3B4455;\n",
              "      fill: #D2E3FC;\n",
              "    }\n",
              "\n",
              "    [theme=dark] .colab-df-convert:hover {\n",
              "      background-color: #434B5C;\n",
              "      box-shadow: 0px 1px 3px 1px rgba(0, 0, 0, 0.15);\n",
              "      filter: drop-shadow(0px 1px 2px rgba(0, 0, 0, 0.3));\n",
              "      fill: #FFFFFF;\n",
              "    }\n",
              "  </style>\n",
              "\n",
              "    <script>\n",
              "      const buttonEl =\n",
              "        document.querySelector('#df-6ab9edb4-002f-48e5-ba62-a9cf35a90c38 button.colab-df-convert');\n",
              "      buttonEl.style.display =\n",
              "        google.colab.kernel.accessAllowed ? 'block' : 'none';\n",
              "\n",
              "      async function convertToInteractive(key) {\n",
              "        const element = document.querySelector('#df-6ab9edb4-002f-48e5-ba62-a9cf35a90c38');\n",
              "        const dataTable =\n",
              "          await google.colab.kernel.invokeFunction('convertToInteractive',\n",
              "                                                    [key], {});\n",
              "        if (!dataTable) return;\n",
              "\n",
              "        const docLinkHtml = 'Like what you see? Visit the ' +\n",
              "          '<a target=\"_blank\" href=https://colab.research.google.com/notebooks/data_table.ipynb>data table notebook</a>'\n",
              "          + ' to learn more about interactive tables.';\n",
              "        element.innerHTML = '';\n",
              "        dataTable['output_type'] = 'display_data';\n",
              "        await google.colab.output.renderOutput(dataTable, element);\n",
              "        const docLink = document.createElement('div');\n",
              "        docLink.innerHTML = docLinkHtml;\n",
              "        element.appendChild(docLink);\n",
              "      }\n",
              "    </script>\n",
              "  </div>\n",
              "\n",
              "\n",
              "<div id=\"df-4e7b5cfc-98de-49c8-9e0e-832385b72936\">\n",
              "  <button class=\"colab-df-quickchart\" onclick=\"quickchart('df-4e7b5cfc-98de-49c8-9e0e-832385b72936')\"\n",
              "            title=\"Suggest charts\"\n",
              "            style=\"display:none;\">\n",
              "\n",
              "<svg xmlns=\"http://www.w3.org/2000/svg\" height=\"24px\"viewBox=\"0 0 24 24\"\n",
              "     width=\"24px\">\n",
              "    <g>\n",
              "        <path d=\"M19 3H5c-1.1 0-2 .9-2 2v14c0 1.1.9 2 2 2h14c1.1 0 2-.9 2-2V5c0-1.1-.9-2-2-2zM9 17H7v-7h2v7zm4 0h-2V7h2v10zm4 0h-2v-4h2v4z\"/>\n",
              "    </g>\n",
              "</svg>\n",
              "  </button>\n",
              "\n",
              "<style>\n",
              "  .colab-df-quickchart {\n",
              "      --bg-color: #E8F0FE;\n",
              "      --fill-color: #1967D2;\n",
              "      --hover-bg-color: #E2EBFA;\n",
              "      --hover-fill-color: #174EA6;\n",
              "      --disabled-fill-color: #AAA;\n",
              "      --disabled-bg-color: #DDD;\n",
              "  }\n",
              "\n",
              "  [theme=dark] .colab-df-quickchart {\n",
              "      --bg-color: #3B4455;\n",
              "      --fill-color: #D2E3FC;\n",
              "      --hover-bg-color: #434B5C;\n",
              "      --hover-fill-color: #FFFFFF;\n",
              "      --disabled-bg-color: #3B4455;\n",
              "      --disabled-fill-color: #666;\n",
              "  }\n",
              "\n",
              "  .colab-df-quickchart {\n",
              "    background-color: var(--bg-color);\n",
              "    border: none;\n",
              "    border-radius: 50%;\n",
              "    cursor: pointer;\n",
              "    display: none;\n",
              "    fill: var(--fill-color);\n",
              "    height: 32px;\n",
              "    padding: 0;\n",
              "    width: 32px;\n",
              "  }\n",
              "\n",
              "  .colab-df-quickchart:hover {\n",
              "    background-color: var(--hover-bg-color);\n",
              "    box-shadow: 0 1px 2px rgba(60, 64, 67, 0.3), 0 1px 3px 1px rgba(60, 64, 67, 0.15);\n",
              "    fill: var(--button-hover-fill-color);\n",
              "  }\n",
              "\n",
              "  .colab-df-quickchart-complete:disabled,\n",
              "  .colab-df-quickchart-complete:disabled:hover {\n",
              "    background-color: var(--disabled-bg-color);\n",
              "    fill: var(--disabled-fill-color);\n",
              "    box-shadow: none;\n",
              "  }\n",
              "\n",
              "  .colab-df-spinner {\n",
              "    border: 2px solid var(--fill-color);\n",
              "    border-color: transparent;\n",
              "    border-bottom-color: var(--fill-color);\n",
              "    animation:\n",
              "      spin 1s steps(1) infinite;\n",
              "  }\n",
              "\n",
              "  @keyframes spin {\n",
              "    0% {\n",
              "      border-color: transparent;\n",
              "      border-bottom-color: var(--fill-color);\n",
              "      border-left-color: var(--fill-color);\n",
              "    }\n",
              "    20% {\n",
              "      border-color: transparent;\n",
              "      border-left-color: var(--fill-color);\n",
              "      border-top-color: var(--fill-color);\n",
              "    }\n",
              "    30% {\n",
              "      border-color: transparent;\n",
              "      border-left-color: var(--fill-color);\n",
              "      border-top-color: var(--fill-color);\n",
              "      border-right-color: var(--fill-color);\n",
              "    }\n",
              "    40% {\n",
              "      border-color: transparent;\n",
              "      border-right-color: var(--fill-color);\n",
              "      border-top-color: var(--fill-color);\n",
              "    }\n",
              "    60% {\n",
              "      border-color: transparent;\n",
              "      border-right-color: var(--fill-color);\n",
              "    }\n",
              "    80% {\n",
              "      border-color: transparent;\n",
              "      border-right-color: var(--fill-color);\n",
              "      border-bottom-color: var(--fill-color);\n",
              "    }\n",
              "    90% {\n",
              "      border-color: transparent;\n",
              "      border-bottom-color: var(--fill-color);\n",
              "    }\n",
              "  }\n",
              "</style>\n",
              "\n",
              "  <script>\n",
              "    async function quickchart(key) {\n",
              "      const quickchartButtonEl =\n",
              "        document.querySelector('#' + key + ' button');\n",
              "      quickchartButtonEl.disabled = true;  // To prevent multiple clicks.\n",
              "      quickchartButtonEl.classList.add('colab-df-spinner');\n",
              "      try {\n",
              "        const charts = await google.colab.kernel.invokeFunction(\n",
              "            'suggestCharts', [key], {});\n",
              "      } catch (error) {\n",
              "        console.error('Error during call to suggestCharts:', error);\n",
              "      }\n",
              "      quickchartButtonEl.classList.remove('colab-df-spinner');\n",
              "      quickchartButtonEl.classList.add('colab-df-quickchart-complete');\n",
              "    }\n",
              "    (() => {\n",
              "      let quickchartButtonEl =\n",
              "        document.querySelector('#df-4e7b5cfc-98de-49c8-9e0e-832385b72936 button');\n",
              "      quickchartButtonEl.style.display =\n",
              "        google.colab.kernel.accessAllowed ? 'block' : 'none';\n",
              "    })();\n",
              "  </script>\n",
              "</div>\n",
              "    </div>\n",
              "  </div>\n"
            ],
            "application/vnd.google.colaboratory.intrinsic+json": {
              "type": "dataframe",
              "variable_name": "dataset",
              "summary": "{\n  \"name\": \"dataset\",\n  \"rows\": 5304,\n  \"fields\": [\n    {\n      \"column\": \"Date\",\n      \"properties\": {\n        \"dtype\": \"object\",\n        \"num_unique_values\": 5304,\n        \"samples\": [\n          \"2002-02-18\",\n          \"2014-02-17\",\n          \"2012-09-05\"\n        ],\n        \"semantic_type\": \"\",\n        \"description\": \"\"\n      }\n    },\n    {\n      \"column\": \"Price\",\n      \"properties\": {\n        \"dtype\": \"number\",\n        \"std\": 138.36942122998812,\n        \"min\": 71.55,\n        \"max\": 794.95,\n        \"num_unique_values\": 3926,\n        \"samples\": [\n          165.4,\n          211.3,\n          96.35\n        ],\n        \"semantic_type\": \"\",\n        \"description\": \"\"\n      }\n    },\n    {\n      \"column\": \"Price_MA2\",\n      \"properties\": {\n        \"dtype\": \"number\",\n        \"std\": 67.51474579680877,\n        \"min\": 155.84722753346082,\n        \"max\": 362.85672645739913,\n        \"num_unique_values\": 5304,\n        \"samples\": [\n          156.39174484052532,\n          341.8689518413598,\n          352.22029671717166\n        ],\n        \"semantic_type\": \"\",\n        \"description\": \"\"\n      }\n    },\n    {\n      \"column\": \"EMA\",\n      \"properties\": {\n        \"dtype\": \"number\",\n        \"std\": 138.01699862043392,\n        \"min\": 72.77201656053862,\n        \"max\": 780.0498262291135,\n        \"num_unique_values\": 5304,\n        \"samples\": [\n          182.58738411866997,\n          242.87584217131285,\n          244.63936519081244\n        ],\n        \"semantic_type\": \"\",\n        \"description\": \"\"\n      }\n    }\n  ]\n}"
            }
          },
          "metadata": {},
          "execution_count": 12
        }
      ]
    },
    {
      "cell_type": "code",
      "source": [
        "target = dataset[['Price']]\n",
        "del dataset['Price']"
      ],
      "metadata": {
        "id": "eMlqw8qHK4Ww"
      },
      "execution_count": 13,
      "outputs": []
    },
    {
      "cell_type": "code",
      "source": [
        "x, y = dataset.values, target.values"
      ],
      "metadata": {
        "id": "2z2hIGf8K7sx"
      },
      "execution_count": 14,
      "outputs": []
    },
    {
      "cell_type": "code",
      "source": [
        "x_scaled_set = MinMaxScaler()\n",
        "y_scaled_set = MinMaxScaler()\n",
        "\n",
        "X = x_scaled_set.fit_transform(x)\n",
        "Y = y_scaled_set.fit_transform(y.reshape(-1,1))"
      ],
      "metadata": {
        "id": "8kXS9JieLEpW"
      },
      "execution_count": 15,
      "outputs": []
    },
    {
      "cell_type": "code",
      "source": [
        "x.shape\n"
      ],
      "metadata": {
        "colab": {
          "base_uri": "https://localhost:8080/"
        },
        "id": "wNOhUVPtLHUq",
        "outputId": "8ca6c2b6-8ad3-444e-fc1e-061a58a09479"
      },
      "execution_count": 16,
      "outputs": [
        {
          "output_type": "execute_result",
          "data": {
            "text/plain": [
              "(5304, 2)"
            ]
          },
          "metadata": {},
          "execution_count": 16
        }
      ]
    },
    {
      "cell_type": "code",
      "source": [
        "X_train_data = X[0:4000,]\n",
        "y_train_data = Y[0:4000,]\n",
        "X_test_data = X[4000:4690,]\n",
        "y_test_data = Y[4000:4690,]"
      ],
      "metadata": {
        "id": "egKyAglRLJkP"
      },
      "execution_count": 17,
      "outputs": []
    },
    {
      "cell_type": "code",
      "source": [
        "X_train_data.shape\n"
      ],
      "metadata": {
        "colab": {
          "base_uri": "https://localhost:8080/"
        },
        "id": "lMV38Bl1LLle",
        "outputId": "a0cf15fd-306d-4566-8c6b-6feb05eb32d7"
      },
      "execution_count": 18,
      "outputs": [
        {
          "output_type": "execute_result",
          "data": {
            "text/plain": [
              "(4000, 2)"
            ]
          },
          "metadata": {},
          "execution_count": 18
        }
      ]
    },
    {
      "cell_type": "code",
      "source": [
        "y_test_data.shape\n"
      ],
      "metadata": {
        "colab": {
          "base_uri": "https://localhost:8080/"
        },
        "id": "hdCbBNzLLMVL",
        "outputId": "50c42ddd-8243-4570-827f-c1eb96e7a7aa"
      },
      "execution_count": 19,
      "outputs": [
        {
          "output_type": "execute_result",
          "data": {
            "text/plain": [
              "(690, 1)"
            ]
          },
          "metadata": {},
          "execution_count": 19
        }
      ]
    },
    {
      "cell_type": "code",
      "source": [
        "X_train_data = X_train_data.reshape((-1,1,2))\n",
        "X_test_data = X_test_data.reshape((-1,1,2))"
      ],
      "metadata": {
        "id": "ZcIOqiMhLNwY"
      },
      "execution_count": 20,
      "outputs": []
    },
    {
      "cell_type": "markdown",
      "source": [
        "4. Build Model using RNN & Grated Recurrent Unit (GRU)"
      ],
      "metadata": {
        "id": "Jr6AooOwLQRK"
      }
    },
    {
      "cell_type": "code",
      "source": [
        "GRU_model = Sequential()\n",
        "GRU_model.add(GRU(units=512,\n",
        "              return_sequences=True,\n",
        "              input_shape=(1, 2)))\n",
        "GRU_model.add(Dropout(0.2))\n",
        "GRU_model.add(GRU(units=256))\n",
        "GRU_model.add(Dropout(0.2))\n",
        "GRU_model.add(Dense(1, activation='sigmoid'))"
      ],
      "metadata": {
        "id": "RK88P_MULTG1"
      },
      "execution_count": 21,
      "outputs": []
    },
    {
      "cell_type": "code",
      "source": [
        "GRU_model.compile(loss='mse', optimizer='adam', metrics=['accuracy'])"
      ],
      "metadata": {
        "id": "6gkOQ09CLUtV"
      },
      "execution_count": 22,
      "outputs": []
    },
    {
      "cell_type": "markdown",
      "source": [
        "5. Training the Dataset"
      ],
      "metadata": {
        "id": "0OdyKbLwLXdz"
      }
    },
    {
      "cell_type": "code",
      "source": [
        "GRU_model.fit(X_train_data, y_train_data, batch_size=250, epochs=100, validation_split=0.15, verbose=1)\n"
      ],
      "metadata": {
        "colab": {
          "base_uri": "https://localhost:8080/"
        },
        "id": "iJqnrvfzLZbe",
        "outputId": "3181662e-b9f4-479f-f518-47763534e291"
      },
      "execution_count": 23,
      "outputs": [
        {
          "output_type": "stream",
          "name": "stdout",
          "text": [
            "Epoch 1/100\n",
            "14/14 [==============================] - 13s 121ms/step - loss: 0.0393 - accuracy: 0.0000e+00 - val_loss: 0.0101 - val_accuracy: 0.0000e+00\n",
            "Epoch 2/100\n",
            "14/14 [==============================] - 0s 12ms/step - loss: 0.0204 - accuracy: 2.9412e-04 - val_loss: 0.0043 - val_accuracy: 0.0000e+00\n",
            "Epoch 3/100\n",
            "14/14 [==============================] - 0s 24ms/step - loss: 0.0033 - accuracy: 2.9412e-04 - val_loss: 2.3325e-04 - val_accuracy: 0.0000e+00\n",
            "Epoch 4/100\n",
            "14/14 [==============================] - 0s 20ms/step - loss: 0.0011 - accuracy: 2.9412e-04 - val_loss: 4.2607e-04 - val_accuracy: 0.0000e+00\n",
            "Epoch 5/100\n",
            "14/14 [==============================] - 0s 22ms/step - loss: 6.0835e-04 - accuracy: 2.9412e-04 - val_loss: 1.0904e-04 - val_accuracy: 0.0000e+00\n",
            "Epoch 6/100\n",
            "14/14 [==============================] - 0s 17ms/step - loss: 5.0396e-04 - accuracy: 2.9412e-04 - val_loss: 8.0902e-05 - val_accuracy: 0.0000e+00\n",
            "Epoch 7/100\n",
            "14/14 [==============================] - 0s 19ms/step - loss: 4.3478e-04 - accuracy: 2.9412e-04 - val_loss: 8.6652e-05 - val_accuracy: 0.0000e+00\n",
            "Epoch 8/100\n",
            "14/14 [==============================] - 0s 15ms/step - loss: 4.3294e-04 - accuracy: 2.9412e-04 - val_loss: 7.3308e-05 - val_accuracy: 0.0000e+00\n",
            "Epoch 9/100\n",
            "14/14 [==============================] - 0s 17ms/step - loss: 4.1549e-04 - accuracy: 2.9412e-04 - val_loss: 7.4120e-05 - val_accuracy: 0.0000e+00\n",
            "Epoch 10/100\n",
            "14/14 [==============================] - 0s 20ms/step - loss: 4.0803e-04 - accuracy: 2.9412e-04 - val_loss: 7.1607e-05 - val_accuracy: 0.0000e+00\n",
            "Epoch 11/100\n",
            "14/14 [==============================] - 0s 10ms/step - loss: 3.9278e-04 - accuracy: 2.9412e-04 - val_loss: 8.2693e-05 - val_accuracy: 0.0000e+00\n",
            "Epoch 12/100\n",
            "14/14 [==============================] - 0s 9ms/step - loss: 3.8098e-04 - accuracy: 2.9412e-04 - val_loss: 8.3136e-05 - val_accuracy: 0.0000e+00\n",
            "Epoch 13/100\n",
            "14/14 [==============================] - 0s 8ms/step - loss: 3.6877e-04 - accuracy: 2.9412e-04 - val_loss: 1.1175e-04 - val_accuracy: 0.0000e+00\n",
            "Epoch 14/100\n",
            "14/14 [==============================] - 0s 7ms/step - loss: 3.7195e-04 - accuracy: 2.9412e-04 - val_loss: 7.1229e-05 - val_accuracy: 0.0000e+00\n",
            "Epoch 15/100\n",
            "14/14 [==============================] - 0s 8ms/step - loss: 3.7045e-04 - accuracy: 2.9412e-04 - val_loss: 6.6592e-05 - val_accuracy: 0.0000e+00\n",
            "Epoch 16/100\n",
            "14/14 [==============================] - 0s 8ms/step - loss: 3.5208e-04 - accuracy: 2.9412e-04 - val_loss: 8.3997e-05 - val_accuracy: 0.0000e+00\n",
            "Epoch 17/100\n",
            "14/14 [==============================] - 0s 7ms/step - loss: 3.4687e-04 - accuracy: 2.9412e-04 - val_loss: 1.0223e-04 - val_accuracy: 0.0000e+00\n",
            "Epoch 18/100\n",
            "14/14 [==============================] - 0s 7ms/step - loss: 3.4465e-04 - accuracy: 2.9412e-04 - val_loss: 9.0395e-05 - val_accuracy: 0.0000e+00\n",
            "Epoch 19/100\n",
            "14/14 [==============================] - 0s 9ms/step - loss: 3.3567e-04 - accuracy: 2.9412e-04 - val_loss: 8.9926e-05 - val_accuracy: 0.0000e+00\n",
            "Epoch 20/100\n",
            "14/14 [==============================] - 0s 8ms/step - loss: 3.3983e-04 - accuracy: 2.9412e-04 - val_loss: 6.4877e-05 - val_accuracy: 0.0000e+00\n",
            "Epoch 21/100\n",
            "14/14 [==============================] - 0s 7ms/step - loss: 3.2960e-04 - accuracy: 2.9412e-04 - val_loss: 6.3073e-05 - val_accuracy: 0.0000e+00\n",
            "Epoch 22/100\n",
            "14/14 [==============================] - 0s 8ms/step - loss: 3.2549e-04 - accuracy: 2.9412e-04 - val_loss: 6.7164e-05 - val_accuracy: 0.0000e+00\n",
            "Epoch 23/100\n",
            "14/14 [==============================] - 0s 8ms/step - loss: 3.3563e-04 - accuracy: 2.9412e-04 - val_loss: 7.1969e-05 - val_accuracy: 0.0000e+00\n",
            "Epoch 24/100\n",
            "14/14 [==============================] - 0s 8ms/step - loss: 3.0987e-04 - accuracy: 2.9412e-04 - val_loss: 6.5463e-05 - val_accuracy: 0.0000e+00\n",
            "Epoch 25/100\n",
            "14/14 [==============================] - 0s 9ms/step - loss: 3.0941e-04 - accuracy: 2.9412e-04 - val_loss: 6.3329e-05 - val_accuracy: 0.0000e+00\n",
            "Epoch 26/100\n",
            "14/14 [==============================] - 0s 7ms/step - loss: 3.2274e-04 - accuracy: 2.9412e-04 - val_loss: 6.0151e-05 - val_accuracy: 0.0000e+00\n",
            "Epoch 27/100\n",
            "14/14 [==============================] - 0s 9ms/step - loss: 3.1682e-04 - accuracy: 2.9412e-04 - val_loss: 6.1176e-05 - val_accuracy: 0.0000e+00\n",
            "Epoch 28/100\n",
            "14/14 [==============================] - 0s 9ms/step - loss: 3.0968e-04 - accuracy: 2.9412e-04 - val_loss: 6.8659e-05 - val_accuracy: 0.0000e+00\n",
            "Epoch 29/100\n",
            "14/14 [==============================] - 0s 8ms/step - loss: 2.9577e-04 - accuracy: 2.9412e-04 - val_loss: 7.1611e-05 - val_accuracy: 0.0000e+00\n",
            "Epoch 30/100\n",
            "14/14 [==============================] - 0s 8ms/step - loss: 3.0316e-04 - accuracy: 2.9412e-04 - val_loss: 5.8607e-05 - val_accuracy: 0.0000e+00\n",
            "Epoch 31/100\n",
            "14/14 [==============================] - 0s 8ms/step - loss: 3.0312e-04 - accuracy: 2.9412e-04 - val_loss: 6.1652e-05 - val_accuracy: 0.0000e+00\n",
            "Epoch 32/100\n",
            "14/14 [==============================] - 0s 8ms/step - loss: 2.9833e-04 - accuracy: 2.9412e-04 - val_loss: 5.8634e-05 - val_accuracy: 0.0000e+00\n",
            "Epoch 33/100\n",
            "14/14 [==============================] - 0s 8ms/step - loss: 3.1499e-04 - accuracy: 2.9412e-04 - val_loss: 6.9792e-05 - val_accuracy: 0.0000e+00\n",
            "Epoch 34/100\n",
            "14/14 [==============================] - 0s 8ms/step - loss: 3.0378e-04 - accuracy: 2.9412e-04 - val_loss: 6.0419e-05 - val_accuracy: 0.0000e+00\n",
            "Epoch 35/100\n",
            "14/14 [==============================] - 0s 9ms/step - loss: 3.1025e-04 - accuracy: 2.9412e-04 - val_loss: 6.5629e-05 - val_accuracy: 0.0000e+00\n",
            "Epoch 36/100\n",
            "14/14 [==============================] - 0s 9ms/step - loss: 3.1467e-04 - accuracy: 2.9412e-04 - val_loss: 7.4366e-05 - val_accuracy: 0.0000e+00\n",
            "Epoch 37/100\n",
            "14/14 [==============================] - 0s 9ms/step - loss: 3.2564e-04 - accuracy: 2.9412e-04 - val_loss: 6.8188e-05 - val_accuracy: 0.0000e+00\n",
            "Epoch 38/100\n",
            "14/14 [==============================] - 0s 8ms/step - loss: 3.0293e-04 - accuracy: 2.9412e-04 - val_loss: 5.6728e-05 - val_accuracy: 0.0000e+00\n",
            "Epoch 39/100\n",
            "14/14 [==============================] - 0s 8ms/step - loss: 3.0323e-04 - accuracy: 2.9412e-04 - val_loss: 6.0206e-05 - val_accuracy: 0.0000e+00\n",
            "Epoch 40/100\n",
            "14/14 [==============================] - 0s 8ms/step - loss: 2.9349e-04 - accuracy: 2.9412e-04 - val_loss: 5.8357e-05 - val_accuracy: 0.0000e+00\n",
            "Epoch 41/100\n",
            "14/14 [==============================] - 0s 9ms/step - loss: 2.9673e-04 - accuracy: 2.9412e-04 - val_loss: 6.7174e-05 - val_accuracy: 0.0000e+00\n",
            "Epoch 42/100\n",
            "14/14 [==============================] - 0s 9ms/step - loss: 2.9606e-04 - accuracy: 2.9412e-04 - val_loss: 5.7517e-05 - val_accuracy: 0.0000e+00\n",
            "Epoch 43/100\n",
            "14/14 [==============================] - 0s 8ms/step - loss: 3.1057e-04 - accuracy: 2.9412e-04 - val_loss: 8.5318e-05 - val_accuracy: 0.0000e+00\n",
            "Epoch 44/100\n",
            "14/14 [==============================] - 0s 8ms/step - loss: 2.9801e-04 - accuracy: 2.9412e-04 - val_loss: 9.9912e-05 - val_accuracy: 0.0000e+00\n",
            "Epoch 45/100\n",
            "14/14 [==============================] - 0s 9ms/step - loss: 2.9373e-04 - accuracy: 2.9412e-04 - val_loss: 5.6106e-05 - val_accuracy: 0.0000e+00\n",
            "Epoch 46/100\n",
            "14/14 [==============================] - 0s 9ms/step - loss: 2.9861e-04 - accuracy: 2.9412e-04 - val_loss: 5.8367e-05 - val_accuracy: 0.0000e+00\n",
            "Epoch 47/100\n",
            "14/14 [==============================] - 0s 7ms/step - loss: 2.9793e-04 - accuracy: 2.9412e-04 - val_loss: 6.1557e-05 - val_accuracy: 0.0000e+00\n",
            "Epoch 48/100\n",
            "14/14 [==============================] - 0s 8ms/step - loss: 2.9275e-04 - accuracy: 2.9412e-04 - val_loss: 5.7813e-05 - val_accuracy: 0.0000e+00\n",
            "Epoch 49/100\n",
            "14/14 [==============================] - 0s 9ms/step - loss: 2.8960e-04 - accuracy: 2.9412e-04 - val_loss: 5.6415e-05 - val_accuracy: 0.0000e+00\n",
            "Epoch 50/100\n",
            "14/14 [==============================] - 0s 8ms/step - loss: 3.0299e-04 - accuracy: 2.9412e-04 - val_loss: 6.4826e-05 - val_accuracy: 0.0000e+00\n",
            "Epoch 51/100\n",
            "14/14 [==============================] - 0s 8ms/step - loss: 2.9372e-04 - accuracy: 2.9412e-04 - val_loss: 5.6491e-05 - val_accuracy: 0.0000e+00\n",
            "Epoch 52/100\n",
            "14/14 [==============================] - 0s 8ms/step - loss: 2.9390e-04 - accuracy: 2.9412e-04 - val_loss: 6.3452e-05 - val_accuracy: 0.0000e+00\n",
            "Epoch 53/100\n",
            "14/14 [==============================] - 0s 9ms/step - loss: 3.0526e-04 - accuracy: 2.9412e-04 - val_loss: 6.6521e-05 - val_accuracy: 0.0000e+00\n",
            "Epoch 54/100\n",
            "14/14 [==============================] - 0s 8ms/step - loss: 3.0303e-04 - accuracy: 2.9412e-04 - val_loss: 7.4882e-05 - val_accuracy: 0.0000e+00\n",
            "Epoch 55/100\n",
            "14/14 [==============================] - 0s 9ms/step - loss: 2.9099e-04 - accuracy: 2.9412e-04 - val_loss: 7.2243e-05 - val_accuracy: 0.0000e+00\n",
            "Epoch 56/100\n",
            "14/14 [==============================] - 0s 8ms/step - loss: 3.0678e-04 - accuracy: 2.9412e-04 - val_loss: 1.4810e-04 - val_accuracy: 0.0000e+00\n",
            "Epoch 57/100\n",
            "14/14 [==============================] - 0s 8ms/step - loss: 3.0616e-04 - accuracy: 2.9412e-04 - val_loss: 6.0823e-05 - val_accuracy: 0.0000e+00\n",
            "Epoch 58/100\n",
            "14/14 [==============================] - 0s 8ms/step - loss: 2.8789e-04 - accuracy: 2.9412e-04 - val_loss: 7.1833e-05 - val_accuracy: 0.0000e+00\n",
            "Epoch 59/100\n",
            "14/14 [==============================] - 0s 8ms/step - loss: 3.0668e-04 - accuracy: 2.9412e-04 - val_loss: 7.6189e-05 - val_accuracy: 0.0000e+00\n",
            "Epoch 60/100\n",
            "14/14 [==============================] - 0s 8ms/step - loss: 3.1234e-04 - accuracy: 2.9412e-04 - val_loss: 9.0838e-05 - val_accuracy: 0.0000e+00\n",
            "Epoch 61/100\n",
            "14/14 [==============================] - 0s 9ms/step - loss: 3.2237e-04 - accuracy: 2.9412e-04 - val_loss: 7.6438e-05 - val_accuracy: 0.0000e+00\n",
            "Epoch 62/100\n",
            "14/14 [==============================] - 0s 11ms/step - loss: 3.0876e-04 - accuracy: 2.9412e-04 - val_loss: 5.9553e-05 - val_accuracy: 0.0000e+00\n",
            "Epoch 63/100\n",
            "14/14 [==============================] - 0s 11ms/step - loss: 3.0468e-04 - accuracy: 2.9412e-04 - val_loss: 1.2965e-04 - val_accuracy: 0.0000e+00\n",
            "Epoch 64/100\n",
            "14/14 [==============================] - 0s 10ms/step - loss: 3.0484e-04 - accuracy: 2.9412e-04 - val_loss: 7.2431e-05 - val_accuracy: 0.0000e+00\n",
            "Epoch 65/100\n",
            "14/14 [==============================] - 0s 11ms/step - loss: 3.1591e-04 - accuracy: 2.9412e-04 - val_loss: 1.0527e-04 - val_accuracy: 0.0000e+00\n",
            "Epoch 66/100\n",
            "14/14 [==============================] - 0s 11ms/step - loss: 3.0387e-04 - accuracy: 2.9412e-04 - val_loss: 6.8929e-05 - val_accuracy: 0.0000e+00\n",
            "Epoch 67/100\n",
            "14/14 [==============================] - 0s 10ms/step - loss: 3.1263e-04 - accuracy: 2.9412e-04 - val_loss: 7.1149e-05 - val_accuracy: 0.0000e+00\n",
            "Epoch 68/100\n",
            "14/14 [==============================] - 0s 12ms/step - loss: 2.9640e-04 - accuracy: 2.9412e-04 - val_loss: 5.8000e-05 - val_accuracy: 0.0000e+00\n",
            "Epoch 69/100\n",
            "14/14 [==============================] - 0s 10ms/step - loss: 2.9847e-04 - accuracy: 2.9412e-04 - val_loss: 6.0629e-05 - val_accuracy: 0.0000e+00\n",
            "Epoch 70/100\n",
            "14/14 [==============================] - 0s 10ms/step - loss: 2.9282e-04 - accuracy: 2.9412e-04 - val_loss: 5.6786e-05 - val_accuracy: 0.0000e+00\n",
            "Epoch 71/100\n",
            "14/14 [==============================] - 0s 11ms/step - loss: 2.9990e-04 - accuracy: 2.9412e-04 - val_loss: 5.7121e-05 - val_accuracy: 0.0000e+00\n",
            "Epoch 72/100\n",
            "14/14 [==============================] - 0s 11ms/step - loss: 2.8808e-04 - accuracy: 2.9412e-04 - val_loss: 6.7353e-05 - val_accuracy: 0.0000e+00\n",
            "Epoch 73/100\n",
            "14/14 [==============================] - 0s 11ms/step - loss: 2.9237e-04 - accuracy: 2.9412e-04 - val_loss: 6.0310e-05 - val_accuracy: 0.0000e+00\n",
            "Epoch 74/100\n",
            "14/14 [==============================] - 0s 12ms/step - loss: 2.8721e-04 - accuracy: 2.9412e-04 - val_loss: 1.2191e-04 - val_accuracy: 0.0000e+00\n",
            "Epoch 75/100\n",
            "14/14 [==============================] - 0s 11ms/step - loss: 2.9710e-04 - accuracy: 2.9412e-04 - val_loss: 6.1103e-05 - val_accuracy: 0.0000e+00\n",
            "Epoch 76/100\n",
            "14/14 [==============================] - 0s 9ms/step - loss: 2.8664e-04 - accuracy: 2.9412e-04 - val_loss: 6.4543e-05 - val_accuracy: 0.0000e+00\n",
            "Epoch 77/100\n",
            "14/14 [==============================] - 0s 8ms/step - loss: 3.0049e-04 - accuracy: 2.9412e-04 - val_loss: 5.8919e-05 - val_accuracy: 0.0000e+00\n",
            "Epoch 78/100\n",
            "14/14 [==============================] - 0s 8ms/step - loss: 2.9667e-04 - accuracy: 2.9412e-04 - val_loss: 7.4986e-05 - val_accuracy: 0.0000e+00\n",
            "Epoch 79/100\n",
            "14/14 [==============================] - 0s 8ms/step - loss: 2.8992e-04 - accuracy: 2.9412e-04 - val_loss: 6.2259e-05 - val_accuracy: 0.0000e+00\n",
            "Epoch 80/100\n",
            "14/14 [==============================] - 0s 8ms/step - loss: 2.9460e-04 - accuracy: 2.9412e-04 - val_loss: 8.3335e-05 - val_accuracy: 0.0000e+00\n",
            "Epoch 81/100\n",
            "14/14 [==============================] - 0s 8ms/step - loss: 3.0449e-04 - accuracy: 2.9412e-04 - val_loss: 6.1856e-05 - val_accuracy: 0.0000e+00\n",
            "Epoch 82/100\n",
            "14/14 [==============================] - 0s 8ms/step - loss: 2.9855e-04 - accuracy: 2.9412e-04 - val_loss: 7.5234e-05 - val_accuracy: 0.0000e+00\n",
            "Epoch 83/100\n",
            "14/14 [==============================] - 0s 8ms/step - loss: 2.9063e-04 - accuracy: 2.9412e-04 - val_loss: 5.9511e-05 - val_accuracy: 0.0000e+00\n",
            "Epoch 84/100\n",
            "14/14 [==============================] - 0s 8ms/step - loss: 2.9906e-04 - accuracy: 2.9412e-04 - val_loss: 5.9530e-05 - val_accuracy: 0.0000e+00\n",
            "Epoch 85/100\n",
            "14/14 [==============================] - 0s 8ms/step - loss: 3.0454e-04 - accuracy: 2.9412e-04 - val_loss: 6.1754e-05 - val_accuracy: 0.0000e+00\n",
            "Epoch 86/100\n",
            "14/14 [==============================] - 0s 8ms/step - loss: 3.1479e-04 - accuracy: 2.9412e-04 - val_loss: 6.3726e-05 - val_accuracy: 0.0000e+00\n",
            "Epoch 87/100\n",
            "14/14 [==============================] - 0s 8ms/step - loss: 2.9875e-04 - accuracy: 2.9412e-04 - val_loss: 6.2947e-05 - val_accuracy: 0.0000e+00\n",
            "Epoch 88/100\n",
            "14/14 [==============================] - 0s 8ms/step - loss: 2.9287e-04 - accuracy: 2.9412e-04 - val_loss: 6.1486e-05 - val_accuracy: 0.0000e+00\n",
            "Epoch 89/100\n",
            "14/14 [==============================] - 0s 8ms/step - loss: 2.8414e-04 - accuracy: 2.9412e-04 - val_loss: 5.9677e-05 - val_accuracy: 0.0000e+00\n",
            "Epoch 90/100\n",
            "14/14 [==============================] - 0s 8ms/step - loss: 2.8125e-04 - accuracy: 2.9412e-04 - val_loss: 5.8069e-05 - val_accuracy: 0.0000e+00\n",
            "Epoch 91/100\n",
            "14/14 [==============================] - 0s 8ms/step - loss: 2.8515e-04 - accuracy: 2.9412e-04 - val_loss: 6.3744e-05 - val_accuracy: 0.0000e+00\n",
            "Epoch 92/100\n",
            "14/14 [==============================] - 0s 9ms/step - loss: 2.8593e-04 - accuracy: 2.9412e-04 - val_loss: 5.8058e-05 - val_accuracy: 0.0000e+00\n",
            "Epoch 93/100\n",
            "14/14 [==============================] - 0s 8ms/step - loss: 2.7977e-04 - accuracy: 2.9412e-04 - val_loss: 5.6502e-05 - val_accuracy: 0.0000e+00\n",
            "Epoch 94/100\n",
            "14/14 [==============================] - 0s 8ms/step - loss: 2.8596e-04 - accuracy: 2.9412e-04 - val_loss: 6.3153e-05 - val_accuracy: 0.0000e+00\n",
            "Epoch 95/100\n",
            "14/14 [==============================] - 0s 8ms/step - loss: 2.8750e-04 - accuracy: 2.9412e-04 - val_loss: 6.1542e-05 - val_accuracy: 0.0000e+00\n",
            "Epoch 96/100\n",
            "14/14 [==============================] - 0s 8ms/step - loss: 2.8727e-04 - accuracy: 2.9412e-04 - val_loss: 7.2042e-05 - val_accuracy: 0.0000e+00\n",
            "Epoch 97/100\n",
            "14/14 [==============================] - 0s 8ms/step - loss: 3.0066e-04 - accuracy: 2.9412e-04 - val_loss: 1.0785e-04 - val_accuracy: 0.0000e+00\n",
            "Epoch 98/100\n",
            "14/14 [==============================] - 0s 9ms/step - loss: 2.9746e-04 - accuracy: 2.9412e-04 - val_loss: 5.6978e-05 - val_accuracy: 0.0000e+00\n",
            "Epoch 99/100\n",
            "14/14 [==============================] - 0s 8ms/step - loss: 2.8909e-04 - accuracy: 2.9412e-04 - val_loss: 7.4680e-05 - val_accuracy: 0.0000e+00\n",
            "Epoch 100/100\n",
            "14/14 [==============================] - 0s 9ms/step - loss: 2.7704e-04 - accuracy: 2.9412e-04 - val_loss: 5.7903e-05 - val_accuracy: 0.0000e+00\n"
          ]
        },
        {
          "output_type": "execute_result",
          "data": {
            "text/plain": [
              "<keras.src.callbacks.History at 0x7c2c958fc6a0>"
            ]
          },
          "metadata": {},
          "execution_count": 23
        }
      ]
    },
    {
      "cell_type": "markdown",
      "source": [
        "6. Predict"
      ],
      "metadata": {
        "id": "M-4bYGiJLbZZ"
      }
    },
    {
      "cell_type": "code",
      "source": [
        "score = GRU_model.evaluate(X_test_data, y_test_data)\n",
        "print('Score: {}'.format(score))\n",
        "y_pred = GRU_model.predict(X_test_data)\n",
        "y_test_pred = y_scaled_set.inverse_transform(y_pred)\n",
        "y_test_actual = y_scaled_set.inverse_transform(y_test_data)"
      ],
      "metadata": {
        "colab": {
          "base_uri": "https://localhost:8080/"
        },
        "id": "8vDJzgHOLfgJ",
        "outputId": "e85102e9-d6a8-4921-914d-de0ed066724f"
      },
      "execution_count": 24,
      "outputs": [
        {
          "output_type": "stream",
          "name": "stdout",
          "text": [
            "22/22 [==============================] - 0s 3ms/step - loss: 4.0366e-04 - accuracy: 0.0000e+00\n",
            "Score: [0.00040365970926359296, 0.0]\n",
            "22/22 [==============================] - 1s 2ms/step\n"
          ]
        }
      ]
    },
    {
      "cell_type": "code",
      "source": [
        "test_Dates = main_dataset.Date[4000:4690]"
      ],
      "metadata": {
        "id": "1A8wyLDlLg2j"
      },
      "execution_count": 25,
      "outputs": []
    },
    {
      "cell_type": "code",
      "execution_count": 26,
      "metadata": {
        "colab": {
          "base_uri": "https://localhost:8080/",
          "height": 183
        },
        "id": "43w9cVrIIiUI",
        "outputId": "ab0e4185-af34-4f3f-f393-6ccfe993f5de"
      },
      "outputs": [
        {
          "output_type": "display_data",
          "data": {
            "text/plain": [
              "<Figure size 4000x600 with 1 Axes>"
            ],
            "image/png": "[encoded data removed]"
          },
          "metadata": {}
        }
      ],
      "source": [
        "fig_size = (40, 6)\n",
        "plt.figure(figsize=fig_size)\n",
        "plt.plot(test_Dates, y_test_actual[-690:], label='Actual')\n",
        "plt.plot(test_Dates, y_test_pred[-690:], label='Predicted')\n",
        "plt.legend()\n",
        "plt.show()\n"
      ]
    },
    {
      "cell_type": "code",
      "source": [
        "# Predict closing prices for the test data\n",
        "y_pred = GRU_model.predict(X_test_data)\n",
        "\n",
        "# Inverse transform the scaled predictions to get the actual closing prices\n",
        "y_test_pred = y_scaled_set.inverse_transform(y_pred)\n",
        "\n",
        "# Plot the actual and predicted closing prices against the dates for the test data\n",
        "plt.plot(test_Dates, y_test_actual[-690:], label='Actual')\n",
        "plt.plot(test_Dates, y_test_pred[-690:], label='Predicted')\n",
        "\n",
        "plt.xlabel('Date')\n",
        "plt.ylabel('Closing Price')\n",
        "plt.title('Actual vs Predicted Closing Prices for IOC')\n",
        "plt.legend()\n",
        "plt.show()\n"
      ],
      "metadata": {
        "colab": {
          "base_uri": "https://localhost:8080/",
          "height": 489
        },
        "id": "s0-Y8lrgMYlE",
        "outputId": "36545e66-18d4-494d-d147-ba3ea94343b6"
      },
      "execution_count": 27,
      "outputs": [
        {
          "output_type": "stream",
          "name": "stdout",
          "text": [
            "22/22 [==============================] - 0s 4ms/step\n"
          ]
        },
        {
          "output_type": "display_data",
          "data": {
            "text/plain": [
              "<Figure size 640x480 with 1 Axes>"
            ],
            "image/png": "[encoded data removed]"
          },
          "metadata": {}
        }
      ]
    },
    {
      "cell_type": "markdown",
      "source": [
        "The final plot illustrates the comparison between the actual and predicted closing prices of Indian Oil Corporation Limited (IOC) stock over a specified period. The actual closing prices, represented by the blue line, demonstrate the true market performance, while the predicted closing prices, shown in orange, are generated by a trained GRU (Gated Recurrent Unit) model. The model utilizes historical stock data to forecast future prices, offering insights into potential market trends. The close alignment between the actual and predicted values indicates the model's effectiveness in capturing the underlying patterns of IOC's stock price movement. This visualization serves as a valuable tool for investors and analysts, aiding in informed decision-making and risk management strategies."
      ],
      "metadata": {
        "id": "ZiwYz1WGM_n-"
      }
    }
  ]
}